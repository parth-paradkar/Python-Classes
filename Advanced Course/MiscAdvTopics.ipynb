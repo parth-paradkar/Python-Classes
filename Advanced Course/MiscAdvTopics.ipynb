{
 "cells": [
  {
   "cell_type": "code",
   "execution_count": 0,
   "metadata": {
    "colab": {
     "base_uri": "https://localhost:8080/",
     "height": 54
    },
    "colab_type": "code",
    "id": "j1QTJ56yUHwr",
    "outputId": "eb24c0ca-9cf9-4cd1-b94b-bd7aab106bea"
   },
   "outputs": [
    {
     "name": "stdout",
     "output_type": "stream",
     "text": [
      "(<class '__main__.E'>, <class '__main__.C'>, <class '__main__.D'>, <class '__main__.A'>, <class '__main__.B'>, <class '__main__.F'>, <class 'object'>)\n"
     ]
    }
   ],
   "source": [
    "#MRO (C3 Linearization Algorithm)\n",
    "class F: pass\n",
    "class A(F): pass\n",
    "class B(F): pass\n",
    "class C(A, B): pass\n",
    "class D(A, B): pass\n",
    "class E(C, D): pass\n",
    "\n",
    "print(E.__mro__)"
   ]
  },
  {
   "cell_type": "code",
   "execution_count": 0,
   "metadata": {
    "colab": {
     "base_uri": "https://localhost:8080/",
     "height": 51
    },
    "colab_type": "code",
    "id": "TH_3igIdc8Sc",
    "outputId": "e97de530-6b4a-4403-b0e0-aaad22952941"
   },
   "outputs": [
    {
     "name": "stdout",
     "output_type": "stream",
     "text": [
      "0\n",
      "1\n"
     ]
    }
   ],
   "source": [
    "#Generators\n",
    "'''These are kinda functions that store their state.\n",
    "Usecase is similar to iterators but much simpler to build.'''\n",
    "\n",
    "def gen_fib():\n",
    "  a, b = 0, 1\n",
    "  while True:\n",
    "    yield a\n",
    "    a, b = b, a + b\n",
    "    \n",
    "x = gen_fib()\n",
    "print(next(x))\n",
    "print(next(x))"
   ]
  },
  {
   "cell_type": "code",
   "execution_count": 0,
   "metadata": {
    "colab": {
     "base_uri": "https://localhost:8080/",
     "height": 102
    },
    "colab_type": "code",
    "id": "VCBSMPrQd0Gl",
    "outputId": "eb5a3dd4-dc4d-4fc7-9624-8302c9e6ab93"
   },
   "outputs": [
    {
     "name": "stdout",
     "output_type": "stream",
     "text": [
      "3\n",
      "4\n",
      "[('s', 3), ('k', 3)]\n",
      "OrderedDict([('a', 'b'), ('z', 'x'), ('b', 'q')])\n",
      "OrderedDict([('a', 'b'), ('b', 'q')])\n"
     ]
    }
   ],
   "source": [
    "#Data structures in Python\n",
    "from collections import deque, OrderedDict, Counter\n",
    "\n",
    "q = deque()\n",
    "q.append(4)\n",
    "q.append(3)\n",
    "print(q.pop())\n",
    "print(q.pop())\n",
    "\n",
    "c = Counter(\"oskghdnzk.jms,ndgskf\")\n",
    "print(c.most_common(2))\n",
    "\n",
    "o = OrderedDict()\n",
    "o['a'] = 'b'\n",
    "o['z'] = 'x'\n",
    "o['b'] = 'q'\n",
    "\n",
    "print(o)\n",
    "del o['z']\n",
    "print(o)"
   ]
  }
 ],
 "metadata": {
  "colab": {
   "name": "MiscAdvTopics.ipynb",
   "provenance": [],
   "version": "0.3.2"
  },
  "kernelspec": {
   "display_name": "Python 3",
   "language": "python",
   "name": "python3"
  },
  "language_info": {
   "codemirror_mode": {
    "name": "ipython",
    "version": 3
   },
   "file_extension": ".py",
   "mimetype": "text/x-python",
   "name": "python",
   "nbconvert_exporter": "python",
   "pygments_lexer": "ipython3",
   "version": "3.8.9"
  }
 },
 "nbformat": 4,
 "nbformat_minor": 1
}
